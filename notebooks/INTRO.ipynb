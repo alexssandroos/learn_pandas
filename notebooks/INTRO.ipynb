{
 "cells": [
  {
   "cell_type": "markdown",
   "metadata": {},
   "source": [
    "# 01 - Inspecting Data"
   ]
  },
  {
   "cell_type": "code",
   "execution_count": 21,
   "metadata": {},
   "outputs": [],
   "source": [
    "import pandas as pd\n",
    "import numpy as np\n",
    "df = pd.read_csv('../datasets/intel.csv')"
   ]
  },
  {
   "cell_type": "code",
   "execution_count": 3,
   "metadata": {},
   "outputs": [
    {
     "data": {
      "text/html": [
       "<div>\n",
       "<style scoped>\n",
       "    .dataframe tbody tr th:only-of-type {\n",
       "        vertical-align: middle;\n",
       "    }\n",
       "\n",
       "    .dataframe tbody tr th {\n",
       "        vertical-align: top;\n",
       "    }\n",
       "\n",
       "    .dataframe thead th {\n",
       "        text-align: right;\n",
       "    }\n",
       "</style>\n",
       "<table border=\"1\" class=\"dataframe\">\n",
       "  <thead>\n",
       "    <tr style=\"text-align: right;\">\n",
       "      <th></th>\n",
       "      <th>Date</th>\n",
       "      <th>Open</th>\n",
       "      <th>High</th>\n",
       "      <th>Low</th>\n",
       "      <th>Close</th>\n",
       "    </tr>\n",
       "  </thead>\n",
       "  <tbody>\n",
       "    <tr>\n",
       "      <th>0</th>\n",
       "      <td>10/10/2017</td>\n",
       "      <td>39.930000</td>\n",
       "      <td>39.950001</td>\n",
       "      <td>39.380001</td>\n",
       "      <td>39.650002</td>\n",
       "    </tr>\n",
       "    <tr>\n",
       "      <th>1</th>\n",
       "      <td>11/10/2017</td>\n",
       "      <td>39.480000</td>\n",
       "      <td>39.669998</td>\n",
       "      <td>39.060001</td>\n",
       "      <td>39.299999</td>\n",
       "    </tr>\n",
       "    <tr>\n",
       "      <th>2</th>\n",
       "      <td>12/10/2017</td>\n",
       "      <td>39.349998</td>\n",
       "      <td>39.389999</td>\n",
       "      <td>38.980000</td>\n",
       "      <td>39.189999</td>\n",
       "    </tr>\n",
       "  </tbody>\n",
       "</table>\n",
       "</div>"
      ],
      "text/plain": [
       "         Date       Open       High        Low      Close\n",
       "0  10/10/2017  39.930000  39.950001  39.380001  39.650002\n",
       "1  11/10/2017  39.480000  39.669998  39.060001  39.299999\n",
       "2  12/10/2017  39.349998  39.389999  38.980000  39.189999"
      ]
     },
     "execution_count": 3,
     "metadata": {},
     "output_type": "execute_result"
    }
   ],
   "source": [
    "df.head(3)"
   ]
  },
  {
   "cell_type": "code",
   "execution_count": 4,
   "metadata": {},
   "outputs": [
    {
     "data": {
      "text/html": [
       "<div>\n",
       "<style scoped>\n",
       "    .dataframe tbody tr th:only-of-type {\n",
       "        vertical-align: middle;\n",
       "    }\n",
       "\n",
       "    .dataframe tbody tr th {\n",
       "        vertical-align: top;\n",
       "    }\n",
       "\n",
       "    .dataframe thead th {\n",
       "        text-align: right;\n",
       "    }\n",
       "</style>\n",
       "<table border=\"1\" class=\"dataframe\">\n",
       "  <thead>\n",
       "    <tr style=\"text-align: right;\">\n",
       "      <th></th>\n",
       "      <th>Open</th>\n",
       "      <th>High</th>\n",
       "      <th>Low</th>\n",
       "      <th>Close</th>\n",
       "    </tr>\n",
       "  </thead>\n",
       "  <tbody>\n",
       "    <tr>\n",
       "      <th>count</th>\n",
       "      <td>253.000000</td>\n",
       "      <td>253.000000</td>\n",
       "      <td>253.000000</td>\n",
       "      <td>253.000000</td>\n",
       "    </tr>\n",
       "    <tr>\n",
       "      <th>mean</th>\n",
       "      <td>48.423360</td>\n",
       "      <td>48.964427</td>\n",
       "      <td>47.859881</td>\n",
       "      <td>48.429565</td>\n",
       "    </tr>\n",
       "    <tr>\n",
       "      <th>std</th>\n",
       "      <td>4.039893</td>\n",
       "      <td>4.085279</td>\n",
       "      <td>3.966219</td>\n",
       "      <td>4.013455</td>\n",
       "    </tr>\n",
       "    <tr>\n",
       "      <th>min</th>\n",
       "      <td>39.349998</td>\n",
       "      <td>39.389999</td>\n",
       "      <td>38.980000</td>\n",
       "      <td>39.189999</td>\n",
       "    </tr>\n",
       "    <tr>\n",
       "      <th>25%</th>\n",
       "      <td>45.619999</td>\n",
       "      <td>46.070000</td>\n",
       "      <td>45.119999</td>\n",
       "      <td>45.540001</td>\n",
       "    </tr>\n",
       "    <tr>\n",
       "      <th>50%</th>\n",
       "      <td>48.099998</td>\n",
       "      <td>48.759998</td>\n",
       "      <td>47.480000</td>\n",
       "      <td>48.099998</td>\n",
       "    </tr>\n",
       "    <tr>\n",
       "      <th>75%</th>\n",
       "      <td>51.689999</td>\n",
       "      <td>52.169998</td>\n",
       "      <td>51.000000</td>\n",
       "      <td>51.720001</td>\n",
       "    </tr>\n",
       "    <tr>\n",
       "      <th>max</th>\n",
       "      <td>57.009998</td>\n",
       "      <td>57.599998</td>\n",
       "      <td>56.779999</td>\n",
       "      <td>57.080002</td>\n",
       "    </tr>\n",
       "  </tbody>\n",
       "</table>\n",
       "</div>"
      ],
      "text/plain": [
       "             Open        High         Low       Close\n",
       "count  253.000000  253.000000  253.000000  253.000000\n",
       "mean    48.423360   48.964427   47.859881   48.429565\n",
       "std      4.039893    4.085279    3.966219    4.013455\n",
       "min     39.349998   39.389999   38.980000   39.189999\n",
       "25%     45.619999   46.070000   45.119999   45.540001\n",
       "50%     48.099998   48.759998   47.480000   48.099998\n",
       "75%     51.689999   52.169998   51.000000   51.720001\n",
       "max     57.009998   57.599998   56.779999   57.080002"
      ]
     },
     "execution_count": 4,
     "metadata": {},
     "output_type": "execute_result"
    }
   ],
   "source": [
    "df.describe()"
   ]
  },
  {
   "cell_type": "code",
   "execution_count": 6,
   "metadata": {},
   "outputs": [
    {
     "data": {
      "text/plain": [
       "(253, 5)"
      ]
     },
     "execution_count": 6,
     "metadata": {},
     "output_type": "execute_result"
    }
   ],
   "source": [
    "df.shape"
   ]
  },
  {
   "cell_type": "code",
   "execution_count": 7,
   "metadata": {},
   "outputs": [
    {
     "data": {
      "text/plain": [
       "Index(['Date', 'Open', 'High', 'Low', 'Close'], dtype='object')"
      ]
     },
     "execution_count": 7,
     "metadata": {},
     "output_type": "execute_result"
    }
   ],
   "source": [
    "df.columns"
   ]
  },
  {
   "cell_type": "code",
   "execution_count": 10,
   "metadata": {},
   "outputs": [
    {
     "data": {
      "text/html": [
       "<div>\n",
       "<style scoped>\n",
       "    .dataframe tbody tr th:only-of-type {\n",
       "        vertical-align: middle;\n",
       "    }\n",
       "\n",
       "    .dataframe tbody tr th {\n",
       "        vertical-align: top;\n",
       "    }\n",
       "\n",
       "    .dataframe thead th {\n",
       "        text-align: right;\n",
       "    }\n",
       "</style>\n",
       "<table border=\"1\" class=\"dataframe\">\n",
       "  <thead>\n",
       "    <tr style=\"text-align: right;\">\n",
       "      <th></th>\n",
       "      <th>Open</th>\n",
       "      <th>Close</th>\n",
       "    </tr>\n",
       "  </thead>\n",
       "  <tbody>\n",
       "    <tr>\n",
       "      <th>0</th>\n",
       "      <td>39.930000</td>\n",
       "      <td>39.650002</td>\n",
       "    </tr>\n",
       "    <tr>\n",
       "      <th>1</th>\n",
       "      <td>39.480000</td>\n",
       "      <td>39.299999</td>\n",
       "    </tr>\n",
       "    <tr>\n",
       "      <th>2</th>\n",
       "      <td>39.349998</td>\n",
       "      <td>39.189999</td>\n",
       "    </tr>\n",
       "  </tbody>\n",
       "</table>\n",
       "</div>"
      ],
      "text/plain": [
       "        Open      Close\n",
       "0  39.930000  39.650002\n",
       "1  39.480000  39.299999\n",
       "2  39.349998  39.189999"
      ]
     },
     "execution_count": 10,
     "metadata": {},
     "output_type": "execute_result"
    }
   ],
   "source": [
    "#recort\n",
    "df2 = df[['Open' ,'Close']]\n",
    "df2.head(3)"
   ]
  },
  {
   "cell_type": "markdown",
   "metadata": {},
   "source": [
    "# 02 - Filter Data"
   ]
  },
  {
   "cell_type": "code",
   "execution_count": 20,
   "metadata": {},
   "outputs": [
    {
     "data": {
      "text/html": [
       "<div>\n",
       "<style scoped>\n",
       "    .dataframe tbody tr th:only-of-type {\n",
       "        vertical-align: middle;\n",
       "    }\n",
       "\n",
       "    .dataframe tbody tr th {\n",
       "        vertical-align: top;\n",
       "    }\n",
       "\n",
       "    .dataframe thead th {\n",
       "        text-align: right;\n",
       "    }\n",
       "</style>\n",
       "<table border=\"1\" class=\"dataframe\">\n",
       "  <thead>\n",
       "    <tr style=\"text-align: right;\">\n",
       "      <th></th>\n",
       "      <th>Date</th>\n",
       "      <th>Open</th>\n",
       "      <th>High</th>\n",
       "      <th>Low</th>\n",
       "      <th>Close</th>\n",
       "    </tr>\n",
       "  </thead>\n",
       "  <tbody>\n",
       "    <tr>\n",
       "      <th>96</th>\n",
       "      <td>28/02/2018</td>\n",
       "      <td>50.180000</td>\n",
       "      <td>50.340000</td>\n",
       "      <td>49.279999</td>\n",
       "      <td>49.290001</td>\n",
       "    </tr>\n",
       "    <tr>\n",
       "      <th>100</th>\n",
       "      <td>06/03/2018</td>\n",
       "      <td>50.160000</td>\n",
       "      <td>51.330002</td>\n",
       "      <td>50.150002</td>\n",
       "      <td>50.709999</td>\n",
       "    </tr>\n",
       "    <tr>\n",
       "      <th>101</th>\n",
       "      <td>07/03/2018</td>\n",
       "      <td>50.180000</td>\n",
       "      <td>51.490002</td>\n",
       "      <td>50.099998</td>\n",
       "      <td>51.320000</td>\n",
       "    </tr>\n",
       "    <tr>\n",
       "      <th>102</th>\n",
       "      <td>08/03/2018</td>\n",
       "      <td>51.790001</td>\n",
       "      <td>52.080002</td>\n",
       "      <td>50.470001</td>\n",
       "      <td>50.740002</td>\n",
       "    </tr>\n",
       "    <tr>\n",
       "      <th>103</th>\n",
       "      <td>09/03/2018</td>\n",
       "      <td>51.270000</td>\n",
       "      <td>52.299999</td>\n",
       "      <td>51.000000</td>\n",
       "      <td>52.189999</td>\n",
       "    </tr>\n",
       "  </tbody>\n",
       "</table>\n",
       "</div>"
      ],
      "text/plain": [
       "           Date       Open       High        Low      Close\n",
       "96   28/02/2018  50.180000  50.340000  49.279999  49.290001\n",
       "100  06/03/2018  50.160000  51.330002  50.150002  50.709999\n",
       "101  07/03/2018  50.180000  51.490002  50.099998  51.320000\n",
       "102  08/03/2018  51.790001  52.080002  50.470001  50.740002\n",
       "103  09/03/2018  51.270000  52.299999  51.000000  52.189999"
      ]
     },
     "execution_count": 20,
     "metadata": {},
     "output_type": "execute_result"
    }
   ],
   "source": [
    "# eh possivel fazer filtragens aninhadas com uso de &(and) e | (or)\n",
    "#df[(df.Open > 50) & (df.High >50)].head()\n",
    "df[df.Open > 50].head()"
   ]
  },
  {
   "cell_type": "code",
   "execution_count": 23,
   "metadata": {},
   "outputs": [
    {
     "data": {
      "text/html": [
       "<div>\n",
       "<style scoped>\n",
       "    .dataframe tbody tr th:only-of-type {\n",
       "        vertical-align: middle;\n",
       "    }\n",
       "\n",
       "    .dataframe tbody tr th {\n",
       "        vertical-align: top;\n",
       "    }\n",
       "\n",
       "    .dataframe thead th {\n",
       "        text-align: right;\n",
       "    }\n",
       "</style>\n",
       "<table border=\"1\" class=\"dataframe\">\n",
       "  <thead>\n",
       "    <tr style=\"text-align: right;\">\n",
       "      <th></th>\n",
       "      <th>Country</th>\n",
       "      <th>County</th>\n",
       "    </tr>\n",
       "  </thead>\n",
       "  <tbody>\n",
       "    <tr>\n",
       "      <th>0</th>\n",
       "      <td>IRELAND</td>\n",
       "      <td>Antrim</td>\n",
       "    </tr>\n",
       "    <tr>\n",
       "      <th>1</th>\n",
       "      <td>IRELAND</td>\n",
       "      <td>Armagh</td>\n",
       "    </tr>\n",
       "    <tr>\n",
       "      <th>2</th>\n",
       "      <td>IRELAND</td>\n",
       "      <td>Carlow</td>\n",
       "    </tr>\n",
       "    <tr>\n",
       "      <th>3</th>\n",
       "      <td>IRELAND</td>\n",
       "      <td>Cavan</td>\n",
       "    </tr>\n",
       "    <tr>\n",
       "      <th>4</th>\n",
       "      <td>IRELAND</td>\n",
       "      <td>Clare</td>\n",
       "    </tr>\n",
       "  </tbody>\n",
       "</table>\n",
       "</div>"
      ],
      "text/plain": [
       "   Country  County\n",
       "0  IRELAND  Antrim\n",
       "1  IRELAND  Armagh\n",
       "2  IRELAND  Carlow\n",
       "3  IRELAND   Cavan\n",
       "4  IRELAND   Clare"
      ]
     },
     "execution_count": 23,
     "metadata": {},
     "output_type": "execute_result"
    }
   ],
   "source": [
    "counties = ['Antrim','Armagh','Carlow','Cavan','Clare','Cork','Derry','Donegal','Down','Dublin','Fermanagh','Galway',\n",
    "            'Kerry','Kildare','Kilkenny','Laois','Leitrim','Limerick','Longford','Louth','Mayo','Meath','Monaghan',\n",
    "            'Offaly','Roscommon','Sligo','Tipperary','Tyrone','Waterford','Westmeath','Wexford','Wicklow']\n",
    "\n",
    "# Create a string with the value 'IRELAND'\n",
    "country = \"IRELAND\"\n",
    "\n",
    "# Create new dictionary\n",
    "ireland = {'Country':country, 'County':counties}\n",
    "\n",
    "# Create a DataFrame from the dictionary\n",
    "df3 = pd.DataFrame(ireland)\n",
    "\n",
    "df3.head()"
   ]
  },
  {
   "cell_type": "code",
   "execution_count": 28,
   "metadata": {},
   "outputs": [
    {
     "data": {
      "text/html": [
       "<div>\n",
       "<style scoped>\n",
       "    .dataframe tbody tr th:only-of-type {\n",
       "        vertical-align: middle;\n",
       "    }\n",
       "\n",
       "    .dataframe tbody tr th {\n",
       "        vertical-align: top;\n",
       "    }\n",
       "\n",
       "    .dataframe thead th {\n",
       "        text-align: right;\n",
       "    }\n",
       "</style>\n",
       "<table border=\"1\" class=\"dataframe\">\n",
       "  <thead>\n",
       "    <tr style=\"text-align: right;\">\n",
       "      <th></th>\n",
       "      <th>App</th>\n",
       "      <th>Avaliacao</th>\n",
       "      <th>Reviews</th>\n",
       "      <th>Tamanho</th>\n",
       "      <th>N. Downloads</th>\n",
       "      <th>Tipo</th>\n",
       "      <th>Preco</th>\n",
       "      <th>Ultima Atualizacao</th>\n",
       "    </tr>\n",
       "  </thead>\n",
       "  <tbody>\n",
       "    <tr>\n",
       "      <th>0</th>\n",
       "      <td>Photo Editor &amp; Candy Camera &amp; Grid &amp; ScrapBook</td>\n",
       "      <td>4.1</td>\n",
       "      <td>159</td>\n",
       "      <td>19M</td>\n",
       "      <td>10,000+</td>\n",
       "      <td>Free</td>\n",
       "      <td>0</td>\n",
       "      <td>January 7, 2018</td>\n",
       "    </tr>\n",
       "    <tr>\n",
       "      <th>1</th>\n",
       "      <td>Coloring book moana</td>\n",
       "      <td>3.9</td>\n",
       "      <td>967</td>\n",
       "      <td>14M</td>\n",
       "      <td>500,000+</td>\n",
       "      <td>Free</td>\n",
       "      <td>0</td>\n",
       "      <td>January 15, 2018</td>\n",
       "    </tr>\n",
       "    <tr>\n",
       "      <th>2</th>\n",
       "      <td>U Launcher Lite – FREE Live Cool Themes, Hide ...</td>\n",
       "      <td>4.7</td>\n",
       "      <td>87510</td>\n",
       "      <td>8.7M</td>\n",
       "      <td>5,000,000+</td>\n",
       "      <td>Free</td>\n",
       "      <td>0</td>\n",
       "      <td>August 1, 2018</td>\n",
       "    </tr>\n",
       "    <tr>\n",
       "      <th>3</th>\n",
       "      <td>Sketch - Draw &amp; Paint</td>\n",
       "      <td>4.5</td>\n",
       "      <td>215644</td>\n",
       "      <td>25M</td>\n",
       "      <td>50,000,000+</td>\n",
       "      <td>Free</td>\n",
       "      <td>0</td>\n",
       "      <td>June 8, 2018</td>\n",
       "    </tr>\n",
       "    <tr>\n",
       "      <th>4</th>\n",
       "      <td>Pixel Draw - Number Art Coloring Book</td>\n",
       "      <td>4.3</td>\n",
       "      <td>967</td>\n",
       "      <td>2.8M</td>\n",
       "      <td>100,000+</td>\n",
       "      <td>Free</td>\n",
       "      <td>0</td>\n",
       "      <td>June 20, 2018</td>\n",
       "    </tr>\n",
       "  </tbody>\n",
       "</table>\n",
       "</div>"
      ],
      "text/plain": [
       "                                                 App  Avaliacao Reviews  \\\n",
       "0     Photo Editor & Candy Camera & Grid & ScrapBook        4.1     159   \n",
       "1                                Coloring book moana        3.9     967   \n",
       "2  U Launcher Lite – FREE Live Cool Themes, Hide ...        4.7   87510   \n",
       "3                              Sketch - Draw & Paint        4.5  215644   \n",
       "4              Pixel Draw - Number Art Coloring Book        4.3     967   \n",
       "\n",
       "  Tamanho N. Downloads  Tipo Preco Ultima Atualizacao  \n",
       "0     19M      10,000+  Free     0    January 7, 2018  \n",
       "1     14M     500,000+  Free     0   January 15, 2018  \n",
       "2    8.7M   5,000,000+  Free     0     August 1, 2018  \n",
       "3     25M  50,000,000+  Free     0       June 8, 2018  \n",
       "4    2.8M     100,000+  Free     0      June 20, 2018  "
      ]
     },
     "execution_count": 28,
     "metadata": {},
     "output_type": "execute_result"
    }
   ],
   "source": [
    "nome_colunas = ['App', 'Avaliacao', 'Reviews','Tamanho', 'N. Downloads', 'Tipo', 'Preco', 'Ultima Atualizacao']\n",
    "df4 = pd.read_csv('../datasets/edited_googleplaystore_dataset.csv', header=None, names=nome_colunas)\n",
    "df4.head()"
   ]
  },
  {
   "cell_type": "code",
   "execution_count": null,
   "metadata": {},
   "outputs": [],
   "source": [
    "df4.groupby([''])"
   ]
  },
  {
   "cell_type": "code",
   "execution_count": 47,
   "metadata": {},
   "outputs": [
    {
     "data": {
      "text/plain": [
       "['',\n",
       " \"import pandas as pd\\n\\ndf = pd.read_csv('../datasets/intel.csv')\",\n",
       " 'df',\n",
       " 'df.head(3)',\n",
       " 'df.describe()',\n",
       " 'df.shape()',\n",
       " 'df.shape',\n",
       " 'df.columns',\n",
       " \"#recort\\ndf2 = df[['Open'],['Close']] \\ndf2\",\n",
       " \"#recort\\ndf2 = df[['Open' ,'Close']] \\ndf2\",\n",
       " \"#recort\\ndf2 = df[['Open' ,'Close']]\\ndf2.head(3)\",\n",
       " 'df.Open > 38',\n",
       " 'df[df.Open > 38]',\n",
       " 'df[df.Open > 38].head()',\n",
       " 'df[df.Open > 40].head()',\n",
       " 'df[df.Open > 50].head()',\n",
       " '# eh possivel fazer filtragens aninhadas com uso de &(and) e | (or)\\n#df[df.Open > 50].head()\\ndf[df.Open > 50 & df.High >50].head()',\n",
       " '# eh possivel fazer filtragens aninhadas com uso de &(and) e | (or)\\n#df[df.Open > 50].head()\\ndf[[df.Open > 50 & df.High >50]].head()',\n",
       " '# eh possivel fazer filtragens aninhadas com uso de &(and) e | (or)\\n#df[df.Open > 50].head()\\ndf[(df.Open > 50) & (df.High >50)].head()',\n",
       " '# eh possivel fazer filtragens aninhadas com uso de &(and) e | (or)\\n#df[(df.Open > 50) & (df.High >50)].head()\\ndf[df.Open > 50].head()',\n",
       " '# eh possivel fazer filtragens aninhadas com uso de &(and) e | (or)\\n#df[(df.Open > 50) & (df.High >50)].head()\\ndf[df.Open > 50].head()',\n",
       " \"import pandas as pd\\nimport numpy as np\\ndf = pd.read_csv('../datasets/intel.csv')\",\n",
       " 'counties = [\\'Antrim\\',\\'Armagh\\',\\'Carlow\\',\\'Cavan\\',\\'Clare\\',\\'Cork\\',\\'Derry\\',\\'Donegal\\',\\'Down\\',\\'Dublin\\',\\'Fermanagh\\',\\'Galway\\',\\n            \\'Kerry\\',\\'Kildare\\',\\'Kilkenny\\',\\'Laois\\',\\'Leitrim\\',\\'Limerick\\',\\'Longford\\',\\'Louth\\',\\'Mayo\\',\\'Meath\\',\\'Monaghan\\',\\n            \\'Offaly\\',\\'Roscommon\\',\\'Sligo\\',\\'Tipperary\\',\\'Tyrone\\',\\'Waterford\\',\\'Westmeath\\',\\'Wexford\\',\\'Wicklow\\']\\n\\n# Create a string with the value \\'IRELAND\\'\\ncountry = \"IRELAND\"\\n\\n# Create new dictionary\\nireland = {\\'Country\\':country, \\'County\\':counties}\\n\\n# Create a DataFrame from the dictionary\\ndf3 = pd.DataFrame(ireland)\\n\\ndf3',\n",
       " 'counties = [\\'Antrim\\',\\'Armagh\\',\\'Carlow\\',\\'Cavan\\',\\'Clare\\',\\'Cork\\',\\'Derry\\',\\'Donegal\\',\\'Down\\',\\'Dublin\\',\\'Fermanagh\\',\\'Galway\\',\\n            \\'Kerry\\',\\'Kildare\\',\\'Kilkenny\\',\\'Laois\\',\\'Leitrim\\',\\'Limerick\\',\\'Longford\\',\\'Louth\\',\\'Mayo\\',\\'Meath\\',\\'Monaghan\\',\\n            \\'Offaly\\',\\'Roscommon\\',\\'Sligo\\',\\'Tipperary\\',\\'Tyrone\\',\\'Waterford\\',\\'Westmeath\\',\\'Wexford\\',\\'Wicklow\\']\\n\\n# Create a string with the value \\'IRELAND\\'\\ncountry = \"IRELAND\"\\n\\n# Create new dictionary\\nireland = {\\'Country\\':country, \\'County\\':counties}\\n\\n# Create a DataFrame from the dictionary\\ndf3 = pd.DataFrame(ireland)\\n\\ndf3.head()',\n",
       " \"df4 = pd.read_csv('../datasets/edited_googleplaystore_dataset.csv')\\ndf4.head()\",\n",
       " \"df4 = pd.read_csv('../datasets/edited_googleplaystore_dataset.csv', header=None)\\ndf4.head()\",\n",
       " \"nome_colunas = ['App', 'Avaliacao', 'Reviews','Tamanho', 'N. Downloads', 'Tipo', 'Preco', 'Ultima Atualizacao']\\ndf4 = pd.read_csv('../datasets/edited_googleplaystore_dataset.csv', header=None)\\ndf4.head()\",\n",
       " \"nome_colunas = ['App', 'Avaliacao', 'Reviews','Tamanho', 'N. Downloads', 'Tipo', 'Preco', 'Ultima Atualizacao']\\ndf4 = pd.read_csv('../datasets/edited_googleplaystore_dataset.csv', header=None, column_names=nome_colunas)\\ndf4.head()\",\n",
       " \"nome_colunas = ['App', 'Avaliacao', 'Reviews','Tamanho', 'N. Downloads', 'Tipo', 'Preco', 'Ultima Atualizacao']\\ndf4 = pd.read_csv('../datasets/edited_googleplaystore_dataset.csv', header=None, names=nome_colunas)\\ndf4.head()\",\n",
       " \"get_ipython().run_line_magic('env', '')\",\n",
       " \"get_ipython().run_line_magic('env', '__PYVENV_LAUNCHER__')\",\n",
       " \"get_ipython().run_line_magic('who', 'df')\",\n",
       " \"get_ipython().run_line_magic('who', '')\",\n",
       " \"get_ipython().run_line_magic('who', 'df')\",\n",
       " \"get_ipython().run_line_magic('whos', '')\",\n",
       " \"get_ipython().run_line_magic('who_ls', '')\",\n",
       " \"get_ipython().run_line_magic('system', 'date')\",\n",
       " \"get_ipython().run_line_magic('system', '')\",\n",
       " \"get_ipython().run_line_magic('system', 'date')\",\n",
       " \"get_ipython().run_line_magic('system', 'time')\",\n",
       " \"get_ipython().run_line_magic('system', 'date')\",\n",
       " \"get_ipython().run_cell_magic('bash', '', '')\",\n",
       " \"get_ipython().run_cell_magic('bash', 'ls', '')\",\n",
       " \"get_ipython().run_cell_magic('bash', '', 'ls\\\\n')\",\n",
       " \"get_ipython().system('ls')\",\n",
       " \"get_ipython().system('pwd')\",\n",
       " '_ih[-5:]',\n",
       " '_ih']"
      ]
     },
     "execution_count": 47,
     "metadata": {},
     "output_type": "execute_result"
    }
   ],
   "source": []
  }
 ],
 "metadata": {
  "kernelspec": {
   "display_name": "Python 3",
   "language": "python",
   "name": "python3"
  },
  "language_info": {
   "codemirror_mode": {
    "name": "ipython",
    "version": 3
   },
   "file_extension": ".py",
   "mimetype": "text/x-python",
   "name": "python",
   "nbconvert_exporter": "python",
   "pygments_lexer": "ipython3",
   "version": "3.6.6"
  }
 },
 "nbformat": 4,
 "nbformat_minor": 2
}
